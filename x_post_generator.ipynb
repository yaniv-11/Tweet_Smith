{
 "cells": [
  {
   "cell_type": "code",
   "execution_count": 1,
   "id": "bd57b90c",
   "metadata": {},
   "outputs": [],
   "source": [
    "\n",
    "from langgraph.graph import StateGraph,START, END\n",
    "from typing import TypedDict, Literal, Annotated\n",
    "from google import genai\n",
    "from langchain_core.messages import SystemMessage, HumanMessage\n",
    "import operator"
   ]
  },
  {
   "cell_type": "code",
   "execution_count": 30,
   "id": "f3e2af6e",
   "metadata": {},
   "outputs": [],
   "source": [
    "class tweetState(TypedDict):\n",
    "    topic:str\n",
    "    tweet:str\n",
    "    evaluation: Literal[\"approved\", \"need_improvement\"]\n",
    "    feedback:str\n",
    "    iteration:int\n",
    "    max_iteration:int\n",
    "    \n",
    "    tweet_history:Annotated[list[str],operator.add]\n",
    "    feedback_history:Annotated[list[str],operator.add]\n",
    "    "
   ]
  },
  {
   "cell_type": "code",
   "execution_count": null,
   "id": "b41a58bb",
   "metadata": {},
   "outputs": [],
   "source": [
    "def generate_tweet(state: tweetState) -> tweetState:\n",
    "    gen_prompt=f\"\"\"Generate a tweet on the topic \"{state['topic']}\". The tweet should be engaging and relevant to the topic.\n",
    "    think using a friendly and conversational tone.overhype the topic a bit to make it more interesting.\n",
    "    The tweet should be concise and within 280 characters. Provide only the tweet text without any additional commentary.\"\"\"\n",
    "    client = genai.Client()\n",
    "    gen_llm=client.models.generate_content(\n",
    "    model=\"gemini-2.5-flash\",contents=gen_prompt)\n",
    "    state['tweet']=gen_llm.text\n",
    "    state['tweet_history']=[state['tweet']]\n",
    "    return state"
   ]
  },
  {
   "cell_type": "code",
   "execution_count": 32,
   "id": "56f2360e",
   "metadata": {},
   "outputs": [],
   "source": [
    "def evaluate_tweet(state: tweetState) -> tweetState:\n",
    "    eval_prompt=f\"\"\"Evaluate the following tweet on the topic \"{state['topic']}\":\n",
    "    \"{state['tweet']}\"\n",
    "    Provide feedback on its relevance, engagement, and clarity. If the tweet is good, mark it as \"approved\".\n",
    "    If it needs improvement, mark it as \"need_improvement\" and provide specific feedback.\"\"\"\n",
    "    client = genai.Client()\n",
    "    eval_llm=client.models.generate_content(\n",
    "    model=\"gemini-2.5-flash\",contents=eval_prompt)\n",
    "    eval_text=eval_llm.text.lower()\n",
    "    if \"approved\" in eval_text:\n",
    "        state['evaluation']=\"approved\"\n",
    "        state['feedback']=\"The tweet is well-crafted and engaging.\"\n",
    "    else:\n",
    "        state['evaluation']=\"need_improvement\"\n",
    "        feedback_start=eval_text.find(\"feedback:\") + len(\"feedback:\")\n",
    "        state['feedback']=eval_text[feedback_start:].strip()\n",
    "    return state"
   ]
  },
  {
   "cell_type": "code",
   "execution_count": 33,
   "id": "8bbb410d",
   "metadata": {},
   "outputs": [],
   "source": [
    "def optimize_tweet(state: tweetState) -> tweetState:\n",
    "    opt_prompt=f\"\"\"Optimize the following tweet based on the feedback provided:\n",
    "    Tweet: \"{state['tweet']}\"\n",
    "    Feedback: \"{state['feedback']}\"\n",
    "    Revise the tweet to address the feedback and improve its quality.\"\"\"\n",
    "    client = genai.Client()\n",
    "    opt_llm=client.models.generate_content(\n",
    "    model=\"gemini-2.5-flash\",contents=opt_prompt)\n",
    "    state['tweet']=opt_llm.text\n",
    "    state['iteration']+=1\n",
    "    state['tweet_history']=[state['tweet']]\n",
    "    return state"
   ]
  },
  {
   "cell_type": "code",
   "execution_count": 34,
   "id": "66ff12e2",
   "metadata": {},
   "outputs": [],
   "source": [
    "def route_evaluate(state: tweetState) -> str:\n",
    "    if state['evaluation']==\"approved\" or state['iteration']>=state['max_iteration']:\n",
    "        return 'approved'\n",
    "    else:\n",
    "        return 'needs_improvement'"
   ]
  },
  {
   "cell_type": "code",
   "execution_count": null,
   "id": "23b269f5",
   "metadata": {},
   "outputs": [],
   "source": [
    "client = genai.Client()\n",
    "gen_llm=client.models.generate_content(\n",
    "model=\"gemini-2.5-flash\",contents=gen_prompt\n",
    ")\n",
    "\n",
    "client = genai.Client()\n",
    "eval_llm=client.models.generate_content(\n",
    "model=\"gemini-2.5-flash\",contents=eval_prompt\n",
    ")\n",
    "\n",
    "client = genai.Client()\n",
    "opt_llm=client.models.generate_content(\n",
    "model=\"gemini-2.5-flash\",contents=opt_prompt\n",
    ")"
   ]
  },
  {
   "cell_type": "code",
   "execution_count": 35,
   "id": "d5d488a1",
   "metadata": {},
   "outputs": [
    {
     "data": {
      "image/png": "[encoded data removed]",
      "text/plain": [
       "<langgraph.graph.state.CompiledStateGraph object at 0x0000019D83D9DA90>"
      ]
     },
     "execution_count": 35,
     "metadata": {},
     "output_type": "execute_result"
    }
   ],
   "source": [
    "graph = StateGraph(tweetState)\n",
    "\n",
    "graph.add_node('generate', generate_tweet)\n",
    "graph.add_node('evaluate', evaluate_tweet)\n",
    "graph.add_node('optimize', optimize_tweet)\n",
    "\n",
    "graph.add_edge(START, 'generate')\n",
    "graph.add_edge('generate', 'evaluate')\n",
    "\n",
    "graph.add_conditional_edges('evaluate', route_evaluate, {'approved': END, 'needs_improvement': 'optimize'})\n",
    "graph.add_edge('optimize', 'evaluate')\n",
    "\n",
    "workflow = graph.compile()\n",
    "\n",
    "workflow"
   ]
  },
  {
   "cell_type": "code",
   "execution_count": 42,
   "id": "11f960d2",
   "metadata": {},
   "outputs": [],
   "source": [
    "initial_state = {\n",
    "    \"topic\": \"salaar\",\n",
    "    \"iteration\": 1,\n",
    "    \"max_iteration\": 5\n",
    "}\n",
    "result = workflow.invoke(initial_state)"
   ]
  },
  {
   "cell_type": "code",
   "execution_count": 43,
   "id": "939412e4",
   "metadata": {},
   "outputs": [
    {
     "name": "stdout",
     "output_type": "stream",
     "text": [
      "topic:salaar\n",
      "tweet:Prabhas unleashed a beast in Salaar! 🔥 Prashanth Neel's signature intense world-building combined with raw, relentless action makes Khansaar an unforgettable experience. Still feeling the echo of that roar! #Salaar #Prabhas #PrashanthNeel #Khansaar\n",
      "evaluation:approved\n",
      "feedback:The tweet is well-crafted and engaging.\n",
      "iteration:1\n",
      "max_iteration:5\n",
      "tweet_history:[\"Prabhas unleashed a beast in Salaar! 🔥 Prashanth Neel's signature intense world-building combined with raw, relentless action makes Khansaar an unforgettable experience. Still feeling the echo of that roar! #Salaar #Prabhas #PrashanthNeel #Khansaar\", \"Prabhas unleashed a beast in Salaar! 🔥 Prashanth Neel's signature intense world-building combined with raw, relentless action makes Khansaar an unforgettable experience. Still feeling the echo of that roar! #Salaar #Prabhas #PrashanthNeel #Khansaar\"]\n",
      "feedback_history:[]\n"
     ]
    }
   ],
   "source": [
    "for key,value in result.items():\n",
    "    print(f\"{key}:{value}\")"
   ]
  },
  {
   "cell_type": "code",
   "execution_count": 41,
   "id": "12d96cc0",
   "metadata": {},
   "outputs": [
    {
     "name": "stdout",
     "output_type": "stream",
     "text": [
      "The countdown to #Salaar is REAL! 🔥 Prabhas and Prashanth Neel are set to unleash an epic saga of raw power and intense action. This one is going to be cinematic history! Get ready for the roar! #Prabhas #PrashanthNeel\n",
      "The countdown to #Salaar is REAL! 🔥 Prabhas and Prashanth Neel are set to unleash an epic saga of raw power and intense action. This one is going to be cinematic history! Get ready for the roar! #Prabhas #PrashanthNeel\n"
     ]
    }
   ],
   "source": [
    "for i in result['tweet_history']:\n",
    "    print(i)"
   ]
  },
  {
   "cell_type": "code",
   "execution_count": null,
   "id": "367e02f7",
   "metadata": {},
   "outputs": [],
   "source": []
  }
 ],
 "metadata": {
  "kernelspec": {
   "display_name": "Python 3",
   "language": "python",
   "name": "python3"
  },
  "language_info": {
   "codemirror_mode": {
    "name": "ipython",
    "version": 3
   },
   "file_extension": ".py",
   "mimetype": "text/x-python",
   "name": "python",
   "nbconvert_exporter": "python",
   "pygments_lexer": "ipython3",
   "version": "3.9.12"
  }
 },
 "nbformat": 4,
 "nbformat_minor": 5
}
